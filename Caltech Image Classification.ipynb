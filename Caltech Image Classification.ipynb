{
 "cells": [
  {
   "cell_type": "markdown",
   "metadata": {},
   "source": [
    "# Caltech Image Classification"
   ]
  },
  {
   "cell_type": "code",
   "execution_count": 1,
   "metadata": {},
   "outputs": [],
   "source": [
    "%reload_ext autoreload\n",
    "%autoreload 2\n",
    "%matplotlib inline"
   ]
  },
  {
   "cell_type": "code",
   "execution_count": 2,
   "metadata": {},
   "outputs": [],
   "source": [
    "from fastai.imports import *\n",
    "from fastai.transforms import *\n",
    "from fastai.conv_learner import *\n",
    "from fastai.model import *\n",
    "from fastai.dataset import *\n",
    "from fastai.sgdr import *\n",
    "from fastai.plots import *"
   ]
  },
  {
   "cell_type": "code",
   "execution_count": 7,
   "metadata": {},
   "outputs": [],
   "source": [
    "PATH = 'data/caltech_256/'\n",
    "sz = 224\n",
    "arch = resnext50\n",
    "bs=32"
   ]
  },
  {
   "cell_type": "code",
   "execution_count": 10,
   "metadata": {},
   "outputs": [],
   "source": [
    "def read_dirs(path, folder):\n",
    "    '''\n",
    "    Fetches name of all files in path in long form, and labels associated by extrapolation of directory names. \n",
    "    '''\n",
    "    lbls, fnames, all_lbls = [], [], []\n",
    "    full_path = os.path.join(path, folder)\n",
    "    for lbl in sorted(os.listdir(full_path)):\n",
    "        if lbl not in ('.ipynb_checkpoints','.DS_Store'):\n",
    "            all_lbls.append(lbl)\n",
    "            for fname in os.listdir(os.path.join(full_path, lbl)):\n",
    "                if fname.endswith('.jpg'):\n",
    "                    fnames.append(os.path.join(lbl, fname))\n",
    "                    lbls.append(lbl)\n",
    "    return fnames, lbls, all_lbls"
   ]
  },
  {
   "cell_type": "code",
   "execution_count": 11,
   "metadata": {},
   "outputs": [],
   "source": [
    "fnames, lbls, all_lbls = read_dirs(PATH, 'train')"
   ]
  },
  {
   "cell_type": "code",
   "execution_count": 20,
   "metadata": {},
   "outputs": [
    {
     "data": {
      "text/plain": [
       "(30607, 30607)"
      ]
     },
     "execution_count": 20,
     "metadata": {},
     "output_type": "execute_result"
    }
   ],
   "source": [
    "len(fnames), len(lbls)"
   ]
  },
  {
   "cell_type": "code",
   "execution_count": 15,
   "metadata": {},
   "outputs": [],
   "source": [
    "label_df = pd.DataFrame({ 'id': fnames, 'label': lbls })"
   ]
  },
  {
   "cell_type": "code",
   "execution_count": 16,
   "metadata": {},
   "outputs": [
    {
     "data": {
      "text/html": [
       "<div>\n",
       "<style scoped>\n",
       "    .dataframe tbody tr th:only-of-type {\n",
       "        vertical-align: middle;\n",
       "    }\n",
       "\n",
       "    .dataframe tbody tr th {\n",
       "        vertical-align: top;\n",
       "    }\n",
       "\n",
       "    .dataframe thead th {\n",
       "        text-align: right;\n",
       "    }\n",
       "</style>\n",
       "<table border=\"1\" class=\"dataframe\">\n",
       "  <thead>\n",
       "    <tr style=\"text-align: right;\">\n",
       "      <th></th>\n",
       "      <th>id</th>\n",
       "      <th>label</th>\n",
       "    </tr>\n",
       "  </thead>\n",
       "  <tbody>\n",
       "    <tr>\n",
       "      <th>0</th>\n",
       "      <td>001.ak47/001_0022.jpg</td>\n",
       "      <td>001.ak47</td>\n",
       "    </tr>\n",
       "    <tr>\n",
       "      <th>1</th>\n",
       "      <td>001.ak47/001_0056.jpg</td>\n",
       "      <td>001.ak47</td>\n",
       "    </tr>\n",
       "    <tr>\n",
       "      <th>2</th>\n",
       "      <td>001.ak47/001_0003.jpg</td>\n",
       "      <td>001.ak47</td>\n",
       "    </tr>\n",
       "    <tr>\n",
       "      <th>3</th>\n",
       "      <td>001.ak47/001_0027.jpg</td>\n",
       "      <td>001.ak47</td>\n",
       "    </tr>\n",
       "    <tr>\n",
       "      <th>4</th>\n",
       "      <td>001.ak47/001_0007.jpg</td>\n",
       "      <td>001.ak47</td>\n",
       "    </tr>\n",
       "  </tbody>\n",
       "</table>\n",
       "</div>"
      ],
      "text/plain": [
       "                      id     label\n",
       "0  001.ak47/001_0022.jpg  001.ak47\n",
       "1  001.ak47/001_0056.jpg  001.ak47\n",
       "2  001.ak47/001_0003.jpg  001.ak47\n",
       "3  001.ak47/001_0027.jpg  001.ak47\n",
       "4  001.ak47/001_0007.jpg  001.ak47"
      ]
     },
     "execution_count": 16,
     "metadata": {},
     "output_type": "execute_result"
    }
   ],
   "source": [
    "label_df.head()"
   ]
  },
  {
   "cell_type": "code",
   "execution_count": 17,
   "metadata": {},
   "outputs": [
    {
     "data": {
      "text/html": [
       "<div>\n",
       "<style scoped>\n",
       "    .dataframe tbody tr th:only-of-type {\n",
       "        vertical-align: middle;\n",
       "    }\n",
       "\n",
       "    .dataframe tbody tr th {\n",
       "        vertical-align: top;\n",
       "    }\n",
       "\n",
       "    .dataframe thead th {\n",
       "        text-align: right;\n",
       "    }\n",
       "</style>\n",
       "<table border=\"1\" class=\"dataframe\">\n",
       "  <thead>\n",
       "    <tr style=\"text-align: right;\">\n",
       "      <th></th>\n",
       "      <th>id</th>\n",
       "    </tr>\n",
       "    <tr>\n",
       "      <th>label</th>\n",
       "      <th></th>\n",
       "    </tr>\n",
       "  </thead>\n",
       "  <tbody>\n",
       "    <tr>\n",
       "      <th>257.clutter</th>\n",
       "      <td>827</td>\n",
       "    </tr>\n",
       "    <tr>\n",
       "      <th>251.airplanes-101</th>\n",
       "      <td>800</td>\n",
       "    </tr>\n",
       "    <tr>\n",
       "      <th>145.motorbikes-101</th>\n",
       "      <td>798</td>\n",
       "    </tr>\n",
       "    <tr>\n",
       "      <th>253.faces-easy-101</th>\n",
       "      <td>435</td>\n",
       "    </tr>\n",
       "    <tr>\n",
       "      <th>232.t-shirt</th>\n",
       "      <td>358</td>\n",
       "    </tr>\n",
       "    <tr>\n",
       "      <th>096.hammock</th>\n",
       "      <td>285</td>\n",
       "    </tr>\n",
       "    <tr>\n",
       "      <th>011.billiards</th>\n",
       "      <td>278</td>\n",
       "    </tr>\n",
       "    <tr>\n",
       "      <th>105.horse</th>\n",
       "      <td>270</td>\n",
       "    </tr>\n",
       "    <tr>\n",
       "      <th>126.ladder</th>\n",
       "      <td>242</td>\n",
       "    </tr>\n",
       "    <tr>\n",
       "      <th>008.bathtub</th>\n",
       "      <td>232</td>\n",
       "    </tr>\n",
       "    <tr>\n",
       "      <th>012.binoculars</th>\n",
       "      <td>216</td>\n",
       "    </tr>\n",
       "    <tr>\n",
       "      <th>090.gorilla</th>\n",
       "      <td>212</td>\n",
       "    </tr>\n",
       "    <tr>\n",
       "      <th>159.people</th>\n",
       "      <td>209</td>\n",
       "    </tr>\n",
       "    <tr>\n",
       "      <th>147.mushroom</th>\n",
       "      <td>202</td>\n",
       "    </tr>\n",
       "    <tr>\n",
       "      <th>240.watch-101</th>\n",
       "      <td>201</td>\n",
       "    </tr>\n",
       "    <tr>\n",
       "      <th>092.grapes</th>\n",
       "      <td>201</td>\n",
       "    </tr>\n",
       "    <tr>\n",
       "      <th>138.mattress</th>\n",
       "      <td>192</td>\n",
       "    </tr>\n",
       "    <tr>\n",
       "      <th>132.light-house</th>\n",
       "      <td>190</td>\n",
       "    </tr>\n",
       "    <tr>\n",
       "      <th>129.leopards-101</th>\n",
       "      <td>190</td>\n",
       "    </tr>\n",
       "    <tr>\n",
       "      <th>148.mussels</th>\n",
       "      <td>174</td>\n",
       "    </tr>\n",
       "    <tr>\n",
       "      <th>193.soccer-ball</th>\n",
       "      <td>174</td>\n",
       "    </tr>\n",
       "    <tr>\n",
       "      <th>109.hot-tub</th>\n",
       "      <td>156</td>\n",
       "    </tr>\n",
       "    <tr>\n",
       "      <th>137.mars</th>\n",
       "      <td>156</td>\n",
       "    </tr>\n",
       "    <tr>\n",
       "      <th>003.backpack</th>\n",
       "      <td>151</td>\n",
       "    </tr>\n",
       "    <tr>\n",
       "      <th>158.penguin</th>\n",
       "      <td>149</td>\n",
       "    </tr>\n",
       "    <tr>\n",
       "      <th>005.baseball-glove</th>\n",
       "      <td>148</td>\n",
       "    </tr>\n",
       "    <tr>\n",
       "      <th>227.treadmill</th>\n",
       "      <td>147</td>\n",
       "    </tr>\n",
       "    <tr>\n",
       "      <th>021.breadmaker</th>\n",
       "      <td>142</td>\n",
       "    </tr>\n",
       "    <tr>\n",
       "      <th>168.raccoon</th>\n",
       "      <td>140</td>\n",
       "    </tr>\n",
       "    <tr>\n",
       "      <th>214.teepee</th>\n",
       "      <td>139</td>\n",
       "    </tr>\n",
       "    <tr>\n",
       "      <th>...</th>\n",
       "      <td>...</td>\n",
       "    </tr>\n",
       "    <tr>\n",
       "      <th>084.giraffe</th>\n",
       "      <td>84</td>\n",
       "    </tr>\n",
       "    <tr>\n",
       "      <th>239.washing-machine</th>\n",
       "      <td>84</td>\n",
       "    </tr>\n",
       "    <tr>\n",
       "      <th>111.house-fly</th>\n",
       "      <td>84</td>\n",
       "    </tr>\n",
       "    <tr>\n",
       "      <th>112.human-skeleton</th>\n",
       "      <td>84</td>\n",
       "    </tr>\n",
       "    <tr>\n",
       "      <th>215.telephone-box</th>\n",
       "      <td>84</td>\n",
       "    </tr>\n",
       "    <tr>\n",
       "      <th>184.sheet-music</th>\n",
       "      <td>84</td>\n",
       "    </tr>\n",
       "    <tr>\n",
       "      <th>219.theodolite</th>\n",
       "      <td>84</td>\n",
       "    </tr>\n",
       "    <tr>\n",
       "      <th>171.refrigerator</th>\n",
       "      <td>84</td>\n",
       "    </tr>\n",
       "    <tr>\n",
       "      <th>174.rotary-phone</th>\n",
       "      <td>84</td>\n",
       "    </tr>\n",
       "    <tr>\n",
       "      <th>075.floppy-disk</th>\n",
       "      <td>83</td>\n",
       "    </tr>\n",
       "    <tr>\n",
       "      <th>059.drinking-straw</th>\n",
       "      <td>83</td>\n",
       "    </tr>\n",
       "    <tr>\n",
       "      <th>062.eiffel-tower</th>\n",
       "      <td>83</td>\n",
       "    </tr>\n",
       "    <tr>\n",
       "      <th>066.ewer-101</th>\n",
       "      <td>83</td>\n",
       "    </tr>\n",
       "    <tr>\n",
       "      <th>067.eyeglasses</th>\n",
       "      <td>83</td>\n",
       "    </tr>\n",
       "    <tr>\n",
       "      <th>020.brain-101</th>\n",
       "      <td>83</td>\n",
       "    </tr>\n",
       "    <tr>\n",
       "      <th>175.roulette-wheel</th>\n",
       "      <td>83</td>\n",
       "    </tr>\n",
       "    <tr>\n",
       "      <th>160.pez-dispenser</th>\n",
       "      <td>83</td>\n",
       "    </tr>\n",
       "    <tr>\n",
       "      <th>121.kangaroo-101</th>\n",
       "      <td>82</td>\n",
       "    </tr>\n",
       "    <tr>\n",
       "      <th>053.desk-globe</th>\n",
       "      <td>82</td>\n",
       "    </tr>\n",
       "    <tr>\n",
       "      <th>146.mountain-bike</th>\n",
       "      <td>82</td>\n",
       "    </tr>\n",
       "    <tr>\n",
       "      <th>144.minotaur</th>\n",
       "      <td>82</td>\n",
       "    </tr>\n",
       "    <tr>\n",
       "      <th>082.galaxy</th>\n",
       "      <td>81</td>\n",
       "    </tr>\n",
       "    <tr>\n",
       "      <th>186.skunk</th>\n",
       "      <td>81</td>\n",
       "    </tr>\n",
       "    <tr>\n",
       "      <th>218.tennis-racket</th>\n",
       "      <td>81</td>\n",
       "    </tr>\n",
       "    <tr>\n",
       "      <th>201.starfish-101</th>\n",
       "      <td>81</td>\n",
       "    </tr>\n",
       "    <tr>\n",
       "      <th>179.scorpion-101</th>\n",
       "      <td>80</td>\n",
       "    </tr>\n",
       "    <tr>\n",
       "      <th>086.golden-gate-bridge</th>\n",
       "      <td>80</td>\n",
       "    </tr>\n",
       "    <tr>\n",
       "      <th>223.top-hat</th>\n",
       "      <td>80</td>\n",
       "    </tr>\n",
       "    <tr>\n",
       "      <th>099.harpsichord</th>\n",
       "      <td>80</td>\n",
       "    </tr>\n",
       "    <tr>\n",
       "      <th>204.sunflower-101</th>\n",
       "      <td>80</td>\n",
       "    </tr>\n",
       "  </tbody>\n",
       "</table>\n",
       "<p>257 rows × 1 columns</p>\n",
       "</div>"
      ],
      "text/plain": [
       "                         id\n",
       "label                      \n",
       "257.clutter             827\n",
       "251.airplanes-101       800\n",
       "145.motorbikes-101      798\n",
       "253.faces-easy-101      435\n",
       "232.t-shirt             358\n",
       "096.hammock             285\n",
       "011.billiards           278\n",
       "105.horse               270\n",
       "126.ladder              242\n",
       "008.bathtub             232\n",
       "012.binoculars          216\n",
       "090.gorilla             212\n",
       "159.people              209\n",
       "147.mushroom            202\n",
       "240.watch-101           201\n",
       "092.grapes              201\n",
       "138.mattress            192\n",
       "132.light-house         190\n",
       "129.leopards-101        190\n",
       "148.mussels             174\n",
       "193.soccer-ball         174\n",
       "109.hot-tub             156\n",
       "137.mars                156\n",
       "003.backpack            151\n",
       "158.penguin             149\n",
       "005.baseball-glove      148\n",
       "227.treadmill           147\n",
       "021.breadmaker          142\n",
       "168.raccoon             140\n",
       "214.teepee              139\n",
       "...                     ...\n",
       "084.giraffe              84\n",
       "239.washing-machine      84\n",
       "111.house-fly            84\n",
       "112.human-skeleton       84\n",
       "215.telephone-box        84\n",
       "184.sheet-music          84\n",
       "219.theodolite           84\n",
       "171.refrigerator         84\n",
       "174.rotary-phone         84\n",
       "075.floppy-disk          83\n",
       "059.drinking-straw       83\n",
       "062.eiffel-tower         83\n",
       "066.ewer-101             83\n",
       "067.eyeglasses           83\n",
       "020.brain-101            83\n",
       "175.roulette-wheel       83\n",
       "160.pez-dispenser        83\n",
       "121.kangaroo-101         82\n",
       "053.desk-globe           82\n",
       "146.mountain-bike        82\n",
       "144.minotaur             82\n",
       "082.galaxy               81\n",
       "186.skunk                81\n",
       "218.tennis-racket        81\n",
       "201.starfish-101         81\n",
       "179.scorpion-101         80\n",
       "086.golden-gate-bridge   80\n",
       "223.top-hat              80\n",
       "099.harpsichord          80\n",
       "204.sunflower-101        80\n",
       "\n",
       "[257 rows x 1 columns]"
      ]
     },
     "execution_count": 17,
     "metadata": {},
     "output_type": "execute_result"
    }
   ],
   "source": [
    "label_df.pivot_table(index='label', aggfunc=len).sort_values('id', ascending=False)"
   ]
  },
  {
   "cell_type": "code",
   "execution_count": 18,
   "metadata": {},
   "outputs": [],
   "source": [
    "label_df.to_csv('labels.csv', index=False)"
   ]
  },
  {
   "cell_type": "code",
   "execution_count": null,
   "metadata": {},
   "outputs": [],
   "source": [
    "label_df = pd.read_csv('labels.csv')"
   ]
  },
  {
   "cell_type": "code",
   "execution_count": 23,
   "metadata": {},
   "outputs": [],
   "source": [
    "n = label_df.size//2\n",
    "val_idxs = get_cv_idxs(n)"
   ]
  },
  {
   "cell_type": "code",
   "execution_count": 25,
   "metadata": {},
   "outputs": [
    {
     "data": {
      "text/plain": [
       "6121"
      ]
     },
     "execution_count": 25,
     "metadata": {},
     "output_type": "execute_result"
    }
   ],
   "source": [
    "len(val_idxs)"
   ]
  },
  {
   "cell_type": "code",
   "execution_count": 27,
   "metadata": {},
   "outputs": [],
   "source": [
    "def get_data(sz, bs):\n",
    "    tfms = tfms_from_model(arch, sz, aug_tfms=transforms_side_on, max_zoom=1.1)\n",
    "    data = ImageClassifierData.from_csv(PATH, 'train', \n",
    "               'labels.csv', num_workers=4,\n",
    "               val_idxs=val_idxs, tfms=tfms, bs=bs)\n",
    "    return data if sz>300 else data.resize(340, 'tmp')"
   ]
  },
  {
   "cell_type": "code",
   "execution_count": 28,
   "metadata": {},
   "outputs": [
    {
     "data": {
      "application/vnd.jupyter.widget-view+json": {
       "model_id": "0eb5fad0dd8749c6829680bf7c9d9a54",
       "version_major": 2,
       "version_minor": 0
      },
      "text/plain": [
       "HBox(children=(IntProgress(value=0, max=6), HTML(value='')))"
      ]
     },
     "metadata": {},
     "output_type": "display_data"
    },
    {
     "name": "stdout",
     "output_type": "stream",
     "text": [
      "                                                      \n"
     ]
    }
   ],
   "source": [
    "data = get_data(224, bs)"
   ]
  },
  {
   "cell_type": "code",
   "execution_count": 45,
   "metadata": {},
   "outputs": [
    {
     "name": "stdout",
     "output_type": "stream",
     "text": [
      "\r",
      " 80%|███████▉  | 609/766 [01:10<00:18,  8.70it/s, loss=3.81]"
     ]
    }
   ],
   "source": [
    "learn = ConvLearner.pretrained(arch, data, precompute=True, ps=0.5)"
   ]
  },
  {
   "cell_type": "code",
   "execution_count": 46,
   "metadata": {},
   "outputs": [
    {
     "data": {
      "application/vnd.jupyter.widget-view+json": {
       "model_id": "1f1b6b2d86d94851a117540c8da51b56",
       "version_major": 2,
       "version_minor": 0
      },
      "text/plain": [
       "HBox(children=(IntProgress(value=0, description='Epoch', max=1), HTML(value='')))"
      ]
     },
     "metadata": {},
     "output_type": "display_data"
    },
    {
     "name": "stdout",
     "output_type": "stream",
     "text": [
      "                                                            \r"
     ]
    }
   ],
   "source": [
    "lrf=learn.lr_find()"
   ]
  },
  {
   "cell_type": "code",
   "execution_count": 47,
   "metadata": {},
   "outputs": [
    {
     "data": {
      "image/png": "[encoded data removed]",
      "text/plain": [
       "<Figure size 432x288 with 1 Axes>"
      ]
     },
     "metadata": {},
     "output_type": "display_data"
    }
   ],
   "source": [
    "learn.sched.plot_lr()"
   ]
  },
  {
   "cell_type": "code",
   "execution_count": 48,
   "metadata": {},
   "outputs": [
    {
     "data": {
      "image/png": "[encoded data removed]",
      "text/plain": [
       "<Figure size 432x288 with 1 Axes>"
      ]
     },
     "metadata": {},
     "output_type": "display_data"
    }
   ],
   "source": [
    "learn.sched.plot()\n",
    "LEARN_RATE=3e-2\n",
    "plt.axvline(x=LEARN_RATE, color=\"red\");"
   ]
  },
  {
   "cell_type": "code",
   "execution_count": 49,
   "metadata": {},
   "outputs": [
    {
     "data": {
      "application/vnd.jupyter.widget-view+json": {
       "model_id": "4f2c9cc332c84d798ce8ff422fc9ef2e",
       "version_major": 2,
       "version_minor": 0
      },
      "text/plain": [
       "HBox(children=(IntProgress(value=0, description='Epoch', max=1), HTML(value='')))"
      ]
     },
     "metadata": {},
     "output_type": "display_data"
    },
    {
     "name": "stdout",
     "output_type": "stream",
     "text": [
      "epoch      trn_loss   val_loss   accuracy                   \n",
      "    0      1.203853   0.753666   0.810488  \n"
     ]
    }
   ],
   "source": [
    "learn.fit(LEARN_RATE, 1)\n",
    "learn.precompute=False"
   ]
  },
  {
   "cell_type": "code",
   "execution_count": 50,
   "metadata": {},
   "outputs": [
    {
     "data": {
      "application/vnd.jupyter.widget-view+json": {
       "model_id": "408dc5f0704f48e09f45a5c3995a057b",
       "version_major": 2,
       "version_minor": 0
      },
      "text/plain": [
       "HBox(children=(IntProgress(value=0, description='Epoch', max=3), HTML(value='')))"
      ]
     },
     "metadata": {},
     "output_type": "display_data"
    },
    {
     "name": "stdout",
     "output_type": "stream",
     "text": [
      "epoch      trn_loss   val_loss   accuracy                    \n",
      "    0      0.958616   0.648889   0.838588  \n",
      "    1      0.856612   0.624527   0.841366                    \n",
      "    2      0.800968   0.608714   0.844143                    \n"
     ]
    },
    {
     "data": {
      "text/plain": [
       "[array([0.60871]), 0.8441431138994958]"
      ]
     },
     "execution_count": 50,
     "metadata": {},
     "output_type": "execute_result"
    }
   ],
   "source": [
    "learn.precompute=False\n",
    "learn.fit(LEARN_RATE, 3, cycle_len=1)"
   ]
  },
  {
   "cell_type": "code",
   "execution_count": 51,
   "metadata": {},
   "outputs": [
    {
     "data": {
      "application/vnd.jupyter.widget-view+json": {
       "model_id": "e3e7187a453e498fa91bb5253dd6da55",
       "version_major": 2,
       "version_minor": 0
      },
      "text/plain": [
       "HBox(children=(IntProgress(value=0, description='Epoch', max=2), HTML(value='')))"
      ]
     },
     "metadata": {},
     "output_type": "display_data"
    },
    {
     "name": "stdout",
     "output_type": "stream",
     "text": [
      "epoch      trn_loss   val_loss   accuracy                    \n",
      "    0      0.718783   0.591131   0.851005  \n",
      "    1      0.737703   0.592521   0.850025                    \n"
     ]
    },
    {
     "data": {
      "text/plain": [
       "[array([0.59252]), 0.8500245058191814]"
      ]
     },
     "execution_count": 51,
     "metadata": {},
     "output_type": "execute_result"
    }
   ],
   "source": [
    "learn.fit(LEARN_RATE, 2, cycle_len=1)"
   ]
  },
  {
   "cell_type": "code",
   "execution_count": 52,
   "metadata": {},
   "outputs": [],
   "source": [
    "learn.unfreeze()\n",
    "lr=np.array([LEARN_RATE//100,LEARN_RATE//10,LEARN_RATE])"
   ]
  },
  {
   "cell_type": "code",
   "execution_count": 53,
   "metadata": {},
   "outputs": [
    {
     "data": {
      "application/vnd.jupyter.widget-view+json": {
       "model_id": "a59020fc643541298190429527e965bc",
       "version_major": 2,
       "version_minor": 0
      },
      "text/plain": [
       "HBox(children=(IntProgress(value=0, description='Epoch', max=3), HTML(value='')))"
      ]
     },
     "metadata": {},
     "output_type": "display_data"
    },
    {
     "name": "stdout",
     "output_type": "stream",
     "text": [
      "epoch      trn_loss   val_loss   accuracy                    \n",
      "    0      0.818868   0.642941   0.839569  \n",
      "    1      0.785882   0.623166   0.845123                    \n",
      "    2      0.702673   0.626127   0.845613                    \n"
     ]
    },
    {
     "data": {
      "text/plain": [
       "[array([0.62613]), 0.8456134618623762]"
      ]
     },
     "execution_count": 53,
     "metadata": {},
     "output_type": "execute_result"
    }
   ],
   "source": [
    "learn.fit(lr, 3, cycle_len=1)"
   ]
  },
  {
   "cell_type": "code",
   "execution_count": 54,
   "metadata": {},
   "outputs": [
    {
     "data": {
      "application/vnd.jupyter.widget-view+json": {
       "model_id": "9265da81853c4c92923b8b83029224b8",
       "version_major": 2,
       "version_minor": 0
      },
      "text/plain": [
       "HBox(children=(IntProgress(value=0, description='Epoch', max=7), HTML(value='')))"
      ]
     },
     "metadata": {},
     "output_type": "display_data"
    },
    {
     "name": "stdout",
     "output_type": "stream",
     "text": [
      "epoch      trn_loss   val_loss   accuracy                    \n",
      "    0      0.715914   0.620476   0.846757  \n",
      "    1      0.756287   0.619419   0.846104                    \n",
      "    2      0.674982   0.591448   0.852475                    \n",
      "    3      0.715587   0.632254   0.845123                    \n",
      "    4      0.618912   0.614152   0.849371                    \n",
      "    5      0.575641   0.599179   0.854599                    \n",
      "    6      0.567453   0.605842   0.848554                    \n"
     ]
    },
    {
     "data": {
      "text/plain": [
       "[array([0.60584]), 0.8485541578465633]"
      ]
     },
     "execution_count": 54,
     "metadata": {},
     "output_type": "execute_result"
    }
   ],
   "source": [
    "learn.fit(lr, 3, cycle_len=1, cycle_mult=2)"
   ]
  },
  {
   "cell_type": "code",
   "execution_count": 55,
   "metadata": {},
   "outputs": [],
   "source": [
    "learn.save('224_pre')"
   ]
  },
  {
   "cell_type": "code",
   "execution_count": null,
   "metadata": {},
   "outputs": [],
   "source": [
    "learn.load('224_pre')"
   ]
  },
  {
   "cell_type": "code",
   "execution_count": 56,
   "metadata": {},
   "outputs": [
    {
     "data": {
      "application/vnd.jupyter.widget-view+json": {
       "model_id": "2afe32689d9a4e4b84d2ed18e33b36f2",
       "version_major": 2,
       "version_minor": 0
      },
      "text/plain": [
       "HBox(children=(IntProgress(value=0, max=6), HTML(value='')))"
      ]
     },
     "metadata": {},
     "output_type": "display_data"
    }
   ],
   "source": [
    "learn.set_data(get_data(299, bs))"
   ]
  },
  {
   "cell_type": "code",
   "execution_count": 57,
   "metadata": {},
   "outputs": [
    {
     "data": {
      "application/vnd.jupyter.widget-view+json": {
       "model_id": "aa9686c7a58449e1b685546e419230f3",
       "version_major": 2,
       "version_minor": 0
      },
      "text/plain": [
       "HBox(children=(IntProgress(value=0, description='Epoch', max=7), HTML(value='')))"
      ]
     },
     "metadata": {},
     "output_type": "display_data"
    },
    {
     "name": "stdout",
     "output_type": "stream",
     "text": [
      "epoch      trn_loss   val_loss   accuracy                    \n",
      "    0      0.715511   0.582316   0.850841  \n",
      "    1      0.631029   0.578544   0.848064                    \n",
      "    2      0.517821   0.569571   0.851331                    \n",
      "    3      0.612919   0.587182   0.854272                    \n",
      "    4      0.530441   0.581956   0.855089                    \n",
      "    5      0.538164   0.569159   0.860154                    \n",
      "    6      0.464672   0.564791   0.860644                    \n"
     ]
    },
    {
     "data": {
      "text/plain": [
       "[array([0.56479]), 0.8606436856820135]"
      ]
     },
     "execution_count": 57,
     "metadata": {},
     "output_type": "execute_result"
    }
   ],
   "source": [
    "learn.fit(lr, 3, cycle_len=1, cycle_mult=2)"
   ]
  },
  {
   "cell_type": "code",
   "execution_count": 58,
   "metadata": {},
   "outputs": [],
   "source": [
    "learn.save('299')"
   ]
  },
  {
   "cell_type": "code",
   "execution_count": null,
   "metadata": {},
   "outputs": [],
   "source": [
    "learn.load('299')"
   ]
  },
  {
   "cell_type": "code",
   "execution_count": 60,
   "metadata": {},
   "outputs": [
    {
     "name": "stdout",
     "output_type": "stream",
     "text": [
      "                                             \r"
     ]
    },
    {
     "data": {
      "text/plain": [
       "0.8704460055546479"
      ]
     },
     "execution_count": 60,
     "metadata": {},
     "output_type": "execute_result"
    }
   ],
   "source": [
    "log_preds,y = learn.TTA()\n",
    "probs = np.mean(np.exp(log_preds),0)\n",
    "\n",
    "accuracy_np(probs,y)"
   ]
  },
  {
   "cell_type": "markdown",
   "metadata": {},
   "source": [
    "# Analyse results"
   ]
  },
  {
   "cell_type": "code",
   "execution_count": 61,
   "metadata": {},
   "outputs": [],
   "source": [
    "preds = np.argmax(probs, axis=1)\n",
    "probs = probs[:,1]\n",
    "\n",
    "from sklearn.metrics import confusion_matrix\n",
    "cm = confusion_matrix(y, preds)"
   ]
  },
  {
   "cell_type": "code",
   "execution_count": 62,
   "metadata": {},
   "outputs": [
    {
     "name": "stdout",
     "output_type": "stream",
     "text": [
      "[[ 13   0   0 ...   0   0   0]\n",
      " [  0  14   0 ...   0   0   1]\n",
      " [  0   0  28 ...   0   0   0]\n",
      " ...\n",
      " [  0   0   0 ...  15   0   0]\n",
      " [  0   0   0 ...   0  20   0]\n",
      " [  0   0   0 ...   0   0 141]]\n"
     ]
    },
    {
     "data": {
      "image/png": "[encoded data removed]",
      "text/plain": [
       "<Figure size 432x288 with 2 Axes>"
      ]
     },
     "metadata": {},
     "output_type": "display_data"
    }
   ],
   "source": [
    "plot_confusion_matrix(cm, data.classes)"
   ]
  },
  {
   "cell_type": "markdown",
   "metadata": {},
   "source": [
    "## Upload model to S3"
   ]
  },
  {
   "cell_type": "code",
   "execution_count": 64,
   "metadata": {},
   "outputs": [],
   "source": [
    "def get_relative_path(filename):\n",
    "    s1 = os.path.split(filename)\n",
    "    p = os.path.split(s1[0])[1]\n",
    "    return os.path.join(p, s1[1])"
   ]
  },
  {
   "cell_type": "code",
   "execution_count": 65,
   "metadata": {},
   "outputs": [],
   "source": [
    "def create_dummy_data(src_path, dest_root, sub_dir, num_items=2):\n",
    "    if not os.path.isdir(dest_root): os.mkdir(dest_root)\n",
    "    dst_path = os.path.join(dest_root, sub_dir)\n",
    "    classes = os.listdir(src_path)\n",
    "    for d in classes:\n",
    "        if d.startswith('.'): continue\n",
    "        if not os.path.isdir(dst_path): os.mkdir(dst_path)\n",
    "        if not os.path.isdir(os.path.join(dst_path, d)): os.mkdir(os.path.join(dst_path, d))\n",
    "        fnames = glob('{}/{}/*.jpg'.format(src_path, d))\n",
    "        for i in range(num_items):\n",
    "            shutil.copyfile(fnames[i], os.path.join(dst_path, get_relative_path(fnames[i])))"
   ]
  },
  {
   "cell_type": "code",
   "execution_count": 67,
   "metadata": {},
   "outputs": [],
   "source": [
    "create_dummy_data(PATH + \"train\", PATH + \"models/data\", \"train\")"
   ]
  },
  {
   "cell_type": "code",
   "execution_count": 68,
   "metadata": {},
   "outputs": [
    {
     "name": "stdout",
     "output_type": "stream",
     "text": [
      "./\n",
      "./299.h5\n",
      "./data/\n",
      "./data/train/\n",
      "./data/train/242.watermelon/\n",
      "./data/train/242.watermelon/242_0056.jpg\n",
      "./data/train/242.watermelon/242_0039.jpg\n",
      "./data/train/119.jesus-christ/\n",
      "./data/train/119.jesus-christ/119_0040.jpg\n",
      "./data/train/119.jesus-christ/119_0067.jpg\n",
      "./data/train/243.welding-mask/\n",
      "./data/train/243.welding-mask/243_0039.jpg\n",
      "./data/train/243.welding-mask/243_0050.jpg\n",
      "./data/train/039.chopsticks/\n",
      "./data/train/039.chopsticks/039_0038.jpg\n",
      "./data/train/039.chopsticks/039_0044.jpg\n",
      "./data/train/251.airplanes-101/\n",
      "./data/train/251.airplanes-101/251_0590.jpg\n",
      "./data/train/251.airplanes-101/251_0029.jpg\n",
      "./data/train/084.giraffe/\n",
      "./data/train/084.giraffe/084_0035.jpg\n",
      "./data/train/084.giraffe/084_0056.jpg\n",
      "./data/train/077.french-horn/\n",
      "./data/train/077.french-horn/077_0041.jpg\n",
      "./data/train/077.french-horn/077_0085.jpg\n",
      "./data/train/206.sushi/\n",
      "./data/train/206.sushi/206_0044.jpg\n",
      "./data/train/206.sushi/206_0048.jpg\n",
      "./data/train/045.computer-keyboard/\n",
      "./data/train/045.computer-keyboard/045_0020.jpg\n",
      "./data/train/045.computer-keyboard/045_0058.jpg\n",
      "./data/train/252.car-side-101/\n",
      "./data/train/252.car-side-101/252_0047.jpg\n",
      "./data/train/252.car-side-101/252_0007.jpg\n",
      "./data/train/240.watch-101/\n",
      "./data/train/240.watch-101/240_0064.jpg\n",
      "./data/train/240.watch-101/240_0093.jpg\n",
      "./data/train/001.ak47/\n",
      "./data/train/001.ak47/001_0022.jpg\n",
      "./data/train/001.ak47/001_0056.jpg\n",
      "./data/train/122.kayak/\n",
      "./data/train/122.kayak/122_0098.jpg\n",
      "./data/train/122.kayak/122_0036.jpg\n",
      "./data/train/011.billiards/\n",
      "./data/train/011.billiards/011_0166.jpg\n",
      "./data/train/011.billiards/011_0127.jpg\n",
      "./data/train/167.pyramid/\n",
      "./data/train/167.pyramid/167_0079.jpg\n",
      "./data/train/167.pyramid/167_0030.jpg\n",
      "./data/train/073.fireworks/\n",
      "./data/train/073.fireworks/073_0002.jpg\n",
      "./data/train/073.fireworks/073_0095.jpg\n",
      "./data/train/165.pram/\n",
      "./data/train/165.pram/165_0009.jpg\n",
      "./data/train/165.pram/165_0006.jpg\n",
      "./data/train/025.cactus/\n",
      "./data/train/025.cactus/025_0073.jpg\n",
      "./data/train/025.cactus/025_0021.jpg\n",
      "./data/train/093.grasshopper/\n",
      "./data/train/093.grasshopper/093_0033.jpg\n",
      "./data/train/093.grasshopper/093_0034.jpg\n",
      "./data/train/222.tombstone/\n",
      "./data/train/222.tombstone/222_0071.jpg\n",
      "./data/train/222.tombstone/222_0063.jpg\n",
      "./data/train/208.swiss-army-knife/\n",
      "./data/train/208.swiss-army-knife/208_0083.jpg\n",
      "./data/train/208.swiss-army-knife/208_0068.jpg\n",
      "./data/train/212.teapot/\n",
      "./data/train/212.teapot/212_0099.jpg\n",
      "./data/train/212.teapot/212_0041.jpg\n",
      "./data/train/040.cockroach/\n",
      "./data/train/040.cockroach/040_0012.jpg\n",
      "./data/train/040.cockroach/040_0097.jpg\n",
      "./data/train/019.boxing-glove/\n",
      "./data/train/019.boxing-glove/019_0070.jpg\n",
      "./data/train/019.boxing-glove/019_0020.jpg\n",
      "./data/train/114.ibis-101/\n",
      "./data/train/114.ibis-101/114_0077.jpg\n",
      "./data/train/114.ibis-101/114_0100.jpg\n",
      "./data/train/053.desk-globe/\n",
      "./data/train/053.desk-globe/053_0077.jpg\n",
      "./data/train/053.desk-globe/053_0002.jpg\n",
      "./data/train/141.microscope/\n",
      "./data/train/141.microscope/141_0073.jpg\n",
      "./data/train/141.microscope/141_0103.jpg\n",
      "./data/train/178.school-bus/\n",
      "./data/train/178.school-bus/178_0098.jpg\n",
      "./data/train/178.school-bus/178_0034.jpg\n",
      "./data/train/210.syringe/\n",
      "./data/train/210.syringe/210_0016.jpg\n",
      "./data/train/210.syringe/210_0084.jpg\n",
      "./data/train/049.cormorant/\n",
      "./data/train/049.cormorant/049_0018.jpg\n",
      "./data/train/049.cormorant/049_0075.jpg\n",
      "./data/train/120.joy-stick/\n",
      "./data/train/120.joy-stick/120_0086.jpg\n",
      "./data/train/120.joy-stick/120_0090.jpg\n",
      "./data/train/194.socks/\n",
      "./data/train/194.socks/194_0108.jpg\n",
      "./data/train/194.socks/194_0085.jpg\n",
      "./data/train/249.yo-yo/\n",
      "./data/train/249.yo-yo/249_0096.jpg\n",
      "./data/train/249.yo-yo/249_0069.jpg\n",
      "./data/train/211.tambourine/\n",
      "./data/train/211.tambourine/211_0063.jpg\n",
      "./data/train/211.tambourine/211_0048.jpg\n",
      "./data/train/015.bonsai-101/\n",
      "./data/train/015.bonsai-101/015_0028.jpg\n",
      "./data/train/015.bonsai-101/015_0051.jpg\n",
      "./data/train/236.unicorn/\n",
      "./data/train/236.unicorn/236_0019.jpg\n",
      "./data/train/236.unicorn/236_0080.jpg\n",
      "./data/train/146.mountain-bike/\n",
      "./data/train/146.mountain-bike/146_0052.jpg\n",
      "./data/train/146.mountain-bike/146_0030.jpg\n",
      "./data/train/131.lightbulb/\n",
      "./data/train/131.lightbulb/131_0044.jpg\n",
      "./data/train/131.lightbulb/131_0029.jpg\n",
      "./data/train/034.centipede/\n",
      "./data/train/034.centipede/034_0045.jpg\n",
      "./data/train/034.centipede/034_0083.jpg\n",
      "./data/train/032.cartman/\n",
      "./data/train/032.cartman/032_0073.jpg\n",
      "./data/train/032.cartman/032_0085.jpg\n",
      "./data/train/106.horseshoe-crab/\n",
      "./data/train/106.horseshoe-crab/106_0054.jpg\n",
      "./data/train/106.horseshoe-crab/106_0015.jpg\n",
      "./data/train/026.cake/\n",
      "./data/train/026.cake/026_0083.jpg\n",
      "./data/train/026.cake/026_0061.jpg\n",
      "./data/train/226.traffic-light/\n",
      "./data/train/226.traffic-light/226_0013.jpg\n",
      "./data/train/226.traffic-light/226_0078.jpg\n",
      "./data/train/177.saturn/\n",
      "./data/train/177.saturn/177_0009.jpg\n",
      "./data/train/177.saturn/177_0047.jpg\n",
      "./data/train/085.goat/\n",
      "./data/train/085.goat/085_0077.jpg\n",
      "./data/train/085.goat/085_0107.jpg\n",
      "./data/train/060.duck/\n",
      "./data/train/060.duck/060_0063.jpg\n",
      "./data/train/060.duck/060_0032.jpg\n",
      "./data/train/182.self-propelled-lawn-mower/\n",
      "./data/train/182.self-propelled-lawn-mower/182_0102.jpg\n",
      "./data/train/182.self-propelled-lawn-mower/182_0074.jpg\n",
      "./data/train/021.breadmaker/\n",
      "./data/train/021.breadmaker/021_0028.jpg\n",
      "./data/train/021.breadmaker/021_0076.jpg\n",
      "./data/train/164.porcupine/\n",
      "./data/train/164.porcupine/164_0004.jpg\n",
      "./data/train/164.porcupine/164_0098.jpg\n",
      "./data/train/048.conch/\n",
      "./data/train/048.conch/048_0040.jpg\n",
      "./data/train/048.conch/048_0026.jpg\n",
      "./data/train/218.tennis-racket/\n",
      "./data/train/218.tennis-racket/218_0078.jpg\n",
      "./data/train/218.tennis-racket/218_0048.jpg\n",
      "./data/train/057.dolphin-101/\n",
      "./data/train/057.dolphin-101/057_0039.jpg\n",
      "./data/train/057.dolphin-101/057_0092.jpg\n",
      "./data/train/096.hammock/\n",
      "./data/train/096.hammock/096_0247.jpg\n",
      "./data/train/096.hammock/096_0232.jpg\n",
      "./data/train/216.tennis-ball/\n",
      "./data/train/216.tennis-ball/216_0037.jpg\n",
      "./data/train/216.tennis-ball/216_0015.jpg\n",
      "./data/train/174.rotary-phone/\n",
      "./data/train/174.rotary-phone/174_0071.jpg\n",
      "./data/train/174.rotary-phone/174_0007.jpg\n",
      "./data/train/225.tower-pisa/\n",
      "./data/train/225.tower-pisa/225_0065.jpg\n",
      "./data/train/225.tower-pisa/225_0038.jpg\n",
      "./data/train/083.gas-pump/\n",
      "./data/train/083.gas-pump/083_0050.jpg\n",
      "./data/train/083.gas-pump/083_0038.jpg\n",
      "./data/train/156.paper-shredder/\n",
      "./data/train/156.paper-shredder/156_0041.jpg\n",
      "./data/train/156.paper-shredder/156_0063.jpg\n",
      "./data/train/152.owl/\n",
      "./data/train/152.owl/152_0065.jpg\n",
      "./data/train/152.owl/152_0102.jpg\n",
      "./data/train/193.soccer-ball/\n",
      "./data/train/193.soccer-ball/193_0149.jpg\n",
      "./data/train/193.soccer-ball/193_0168.jpg\n",
      "./data/train/046.computer-monitor/\n",
      "./data/train/046.computer-monitor/046_0020.jpg\n",
      "./data/train/046.computer-monitor/046_0064.jpg\n",
      "./data/train/171.refrigerator/\n",
      "./data/train/171.refrigerator/171_0065.jpg\n",
      "./data/train/171.refrigerator/171_0005.jpg\n",
      "./data/train/070.fire-extinguisher/\n",
      "./data/train/070.fire-extinguisher/070_0055.jpg\n",
      "./data/train/070.fire-extinguisher/070_0043.jpg\n",
      "./data/train/006.basketball-hoop/\n",
      "./data/train/006.basketball-hoop/006_0021.jpg\n",
      "./data/train/006.basketball-hoop/006_0067.jpg\n",
      "./data/train/005.baseball-glove/\n",
      "./data/train/005.baseball-glove/005_0041.jpg\n",
      "./data/train/005.baseball-glove/005_0125.jpg\n",
      "./data/train/113.hummingbird/\n",
      "./data/train/113.hummingbird/113_0090.jpg\n",
      "./data/train/113.hummingbird/113_0010.jpg\n",
      "./data/train/107.hot-air-balloon/\n",
      "./data/train/107.hot-air-balloon/107_0021.jpg\n",
      "./data/train/107.hot-air-balloon/107_0010.jpg\n",
      "./data/train/100.hawksbill-101/\n",
      "./data/train/100.hawksbill-101/100_0031.jpg\n",
      "./data/train/100.hawksbill-101/100_0016.jpg\n",
      "./data/train/172.revolver-101/\n",
      "./data/train/172.revolver-101/172_0077.jpg\n",
      "./data/train/172.revolver-101/172_0019.jpg\n",
      "./data/train/095.hamburger/\n",
      "./data/train/095.hamburger/095_0005.jpg\n",
      "./data/train/095.hamburger/095_0020.jpg\n",
      "./data/train/065.elk/\n",
      "./data/train/065.elk/065_0027.jpg\n",
      "./data/train/065.elk/065_0007.jpg\n",
      "./data/train/151.ostrich/\n",
      "./data/train/151.ostrich/151_0075.jpg\n",
      "./data/train/151.ostrich/151_0042.jpg\n",
      "./data/train/154.palm-tree/\n",
      "./data/train/154.palm-tree/154_0061.jpg\n",
      "./data/train/154.palm-tree/154_0045.jpg\n",
      "./data/train/022.buddha-101/\n",
      "./data/train/022.buddha-101/022_0008.jpg\n",
      "./data/train/022.buddha-101/022_0063.jpg\n",
      "./data/train/074.flashlight/\n",
      "./data/train/074.flashlight/074_0069.jpg\n",
      "./data/train/074.flashlight/074_0035.jpg\n",
      "./data/train/088.golf-ball/\n",
      "./data/train/088.golf-ball/088_0060.jpg\n",
      "./data/train/088.golf-ball/088_0089.jpg\n",
      "./data/train/132.light-house/\n",
      "./data/train/132.light-house/132_0149.jpg\n"
     ]
    },
    {
     "name": "stdout",
     "output_type": "stream",
     "text": [
      "./data/train/132.light-house/132_0090.jpg\n",
      "./data/train/205.superman/\n",
      "./data/train/205.superman/205_0045.jpg\n",
      "./data/train/205.superman/205_0087.jpg\n",
      "./data/train/130.license-plate/\n",
      "./data/train/130.license-plate/130_0003.jpg\n",
      "./data/train/130.license-plate/130_0035.jpg\n",
      "./data/train/195.soda-can/\n",
      "./data/train/195.soda-can/195_0062.jpg\n",
      "./data/train/195.soda-can/195_0048.jpg\n",
      "./data/train/102.helicopter-101/\n",
      "./data/train/102.helicopter-101/102_0022.jpg\n",
      "./data/train/102.helicopter-101/102_0018.jpg\n",
      "./data/train/003.backpack/\n",
      "./data/train/003.backpack/003_0029.jpg\n",
      "./data/train/003.backpack/003_0093.jpg\n",
      "./data/train/128.lathe/\n",
      "./data/train/128.lathe/128_0045.jpg\n",
      "./data/train/128.lathe/128_0046.jpg\n",
      "./data/train/176.saddle/\n",
      "./data/train/176.saddle/176_0097.jpg\n",
      "./data/train/176.saddle/176_0015.jpg\n",
      "./data/train/256.toad/\n",
      "./data/train/256.toad/256_0068.jpg\n",
      "./data/train/256.toad/256_0100.jpg\n",
      "./data/train/081.frying-pan/\n",
      "./data/train/081.frying-pan/081_0050.jpg\n",
      "./data/train/081.frying-pan/081_0014.jpg\n",
      "./data/train/067.eyeglasses/\n",
      "./data/train/067.eyeglasses/067_0061.jpg\n",
      "./data/train/067.eyeglasses/067_0005.jpg\n",
      "./data/train/042.coffin/\n",
      "./data/train/042.coffin/042_0063.jpg\n",
      "./data/train/042.coffin/042_0074.jpg\n",
      "./data/train/111.house-fly/\n",
      "./data/train/111.house-fly/111_0039.jpg\n",
      "./data/train/111.house-fly/111_0069.jpg\n",
      "./data/train/075.floppy-disk/\n",
      "./data/train/075.floppy-disk/075_0030.jpg\n",
      "./data/train/075.floppy-disk/075_0053.jpg\n",
      "./data/train/071.fire-hydrant/\n",
      "./data/train/071.fire-hydrant/071_0054.jpg\n",
      "./data/train/071.fire-hydrant/071_0002.jpg\n",
      "./data/train/203.stirrups/\n",
      "./data/train/203.stirrups/203_0086.jpg\n",
      "./data/train/203.stirrups/203_0045.jpg\n",
      "./data/train/138.mattress/\n",
      "./data/train/138.mattress/138_0088.jpg\n",
      "./data/train/138.mattress/138_0040.jpg\n",
      "./data/train/147.mushroom/\n",
      "./data/train/147.mushroom/147_0173.jpg\n",
      "./data/train/147.mushroom/147_0074.jpg\n",
      "./data/train/089.goose/\n",
      "./data/train/089.goose/089_0007.jpg\n",
      "./data/train/089.goose/089_0014.jpg\n",
      "./data/train/013.birdbath/\n",
      "./data/train/013.birdbath/013_0031.jpg\n",
      "./data/train/013.birdbath/013_0045.jpg\n",
      "./data/train/136.mandolin/\n",
      "./data/train/136.mandolin/136_0044.jpg\n",
      "./data/train/136.mandolin/136_0090.jpg\n",
      "./data/train/062.eiffel-tower/\n",
      "./data/train/062.eiffel-tower/062_0032.jpg\n",
      "./data/train/062.eiffel-tower/062_0076.jpg\n",
      "./data/train/238.video-projector/\n",
      "./data/train/238.video-projector/238_0006.jpg\n",
      "./data/train/238.video-projector/238_0051.jpg\n",
      "./data/train/129.leopards-101/\n",
      "./data/train/129.leopards-101/129_0126.jpg\n",
      "./data/train/129.leopards-101/129_0173.jpg\n",
      "./data/train/223.top-hat/\n",
      "./data/train/223.top-hat/223_0047.jpg\n",
      "./data/train/223.top-hat/223_0053.jpg\n",
      "./data/train/184.sheet-music/\n",
      "./data/train/184.sheet-music/184_0069.jpg\n",
      "./data/train/184.sheet-music/184_0075.jpg\n",
      "./data/train/175.roulette-wheel/\n",
      "./data/train/175.roulette-wheel/175_0059.jpg\n",
      "./data/train/175.roulette-wheel/175_0003.jpg\n",
      "./data/train/127.laptop-101/\n",
      "./data/train/127.laptop-101/127_0049.jpg\n",
      "./data/train/127.laptop-101/127_0108.jpg\n",
      "./data/train/080.frog/\n",
      "./data/train/080.frog/080_0066.jpg\n",
      "./data/train/080.frog/080_0025.jpg\n",
      "./data/train/209.sword/\n",
      "./data/train/209.sword/209_0077.jpg\n",
      "./data/train/209.sword/209_0019.jpg\n",
      "./data/train/115.ice-cream-cone/\n",
      "./data/train/115.ice-cream-cone/115_0004.jpg\n",
      "./data/train/115.ice-cream-cone/115_0035.jpg\n",
      "./data/train/043.coin/\n",
      "./data/train/043.coin/043_0093.jpg\n",
      "./data/train/043.coin/043_0123.jpg\n",
      "./data/train/140.menorah-101/\n",
      "./data/train/140.menorah-101/140_0038.jpg\n",
      "./data/train/140.menorah-101/140_0017.jpg\n",
      "./data/train/137.mars/\n",
      "./data/train/137.mars/137_0116.jpg\n",
      "./data/train/137.mars/137_0109.jpg\n",
      "./data/train/200.stained-glass/\n",
      "./data/train/200.stained-glass/200_0086.jpg\n",
      "./data/train/200.stained-glass/200_0026.jpg\n",
      "./data/train/035.cereal-box/\n",
      "./data/train/035.cereal-box/035_0070.jpg\n",
      "./data/train/035.cereal-box/035_0047.jpg\n",
      "./data/train/017.bowling-ball/\n",
      "./data/train/017.bowling-ball/017_0024.jpg\n",
      "./data/train/017.bowling-ball/017_0072.jpg\n",
      "./data/train/091.grand-piano-101/\n",
      "./data/train/091.grand-piano-101/091_0075.jpg\n",
      "./data/train/091.grand-piano-101/091_0055.jpg\n",
      "./data/train/030.canoe/\n",
      "./data/train/030.canoe/030_0044.jpg\n",
      "./data/train/030.canoe/030_0024.jpg\n",
      "./data/train/014.blimp/\n",
      "./data/train/014.blimp/014_0009.jpg\n",
      "./data/train/014.blimp/014_0046.jpg\n",
      "./data/train/150.octopus/\n",
      "./data/train/150.octopus/150_0062.jpg\n",
      "./data/train/150.octopus/150_0054.jpg\n",
      "./data/train/235.umbrella-101/\n",
      "./data/train/235.umbrella-101/235_0077.jpg\n",
      "./data/train/235.umbrella-101/235_0078.jpg\n",
      "./data/train/037.chess-board/\n",
      "./data/train/037.chess-board/037_0091.jpg\n",
      "./data/train/037.chess-board/037_0016.jpg\n",
      "./data/train/004.baseball-bat/\n",
      "./data/train/004.baseball-bat/004_0032.jpg\n",
      "./data/train/004.baseball-bat/004_0045.jpg\n",
      "./data/train/123.ketch-101/\n",
      "./data/train/123.ketch-101/123_0099.jpg\n",
      "./data/train/123.ketch-101/123_0047.jpg\n",
      "./data/train/097.harmonica/\n",
      "./data/train/097.harmonica/097_0076.jpg\n",
      "./data/train/097.harmonica/097_0087.jpg\n",
      "./data/train/170.rainbow/\n",
      "./data/train/170.rainbow/170_0062.jpg\n",
      "./data/train/170.rainbow/170_0006.jpg\n",
      "./data/train/144.minotaur/\n",
      "./data/train/144.minotaur/144_0079.jpg\n",
      "./data/train/144.minotaur/144_0045.jpg\n",
      "./data/train/098.harp/\n",
      "./data/train/098.harp/098_0016.jpg\n",
      "./data/train/098.harp/098_0059.jpg\n",
      "./data/train/188.smokestack/\n",
      "./data/train/188.smokestack/188_0028.jpg\n",
      "./data/train/188.smokestack/188_0083.jpg\n",
      "./data/train/202.steering-wheel/\n",
      "./data/train/202.steering-wheel/202_0049.jpg\n",
      "./data/train/202.steering-wheel/202_0088.jpg\n",
      "./data/train/072.fire-truck/\n",
      "./data/train/072.fire-truck/072_0003.jpg\n",
      "./data/train/072.fire-truck/072_0047.jpg\n",
      "./data/train/219.theodolite/\n",
      "./data/train/219.theodolite/219_0007.jpg\n",
      "./data/train/219.theodolite/219_0057.jpg\n",
      "./data/train/207.swan/\n",
      "./data/train/207.swan/207_0046.jpg\n",
      "./data/train/207.swan/207_0027.jpg\n",
      "./data/train/253.faces-easy-101/\n",
      "./data/train/253.faces-easy-101/253_0028.jpg\n",
      "./data/train/253.faces-easy-101/253_0253.jpg\n",
      "./data/train/068.fern/\n",
      "./data/train/068.fern/068_0011.jpg\n",
      "./data/train/068.fern/068_0101.jpg\n",
      "./data/train/250.zebra/\n",
      "./data/train/250.zebra/250_0007.jpg\n",
      "./data/train/250.zebra/250_0054.jpg\n",
      "./data/train/257.clutter/\n",
      "./data/train/257.clutter/257_0374.jpg\n",
      "./data/train/257.clutter/257_0367.jpg\n",
      "./data/train/110.hourglass/\n",
      "./data/train/110.hourglass/110_0060.jpg\n",
      "./data/train/110.hourglass/110_0050.jpg\n",
      "./data/train/082.galaxy/\n",
      "./data/train/082.galaxy/082_0069.jpg\n",
      "./data/train/082.galaxy/082_0014.jpg\n",
      "./data/train/064.elephant-101/\n",
      "./data/train/064.elephant-101/064_0029.jpg\n",
      "./data/train/064.elephant-101/064_0123.jpg\n",
      "./data/train/078.fried-egg/\n",
      "./data/train/078.fried-egg/078_0027.jpg\n",
      "./data/train/078.fried-egg/078_0047.jpg\n",
      "./data/train/139.megaphone/\n",
      "./data/train/139.megaphone/139_0052.jpg\n",
      "./data/train/139.megaphone/139_0049.jpg\n",
      "./data/train/233.tuning-fork/\n",
      "./data/train/233.tuning-fork/233_0059.jpg\n",
      "./data/train/233.tuning-fork/233_0068.jpg\n",
      "./data/train/099.harpsichord/\n",
      "./data/train/099.harpsichord/099_0015.jpg\n",
      "./data/train/099.harpsichord/099_0010.jpg\n",
      "./data/train/198.spider/\n",
      "./data/train/198.spider/198_0078.jpg\n",
      "./data/train/198.spider/198_0046.jpg\n",
      "./data/train/124.killer-whale/\n",
      "./data/train/124.killer-whale/124_0080.jpg\n",
      "./data/train/124.killer-whale/124_0013.jpg\n",
      "./data/train/190.snake/\n",
      "./data/train/190.snake/190_0010.jpg\n",
      "./data/train/190.snake/190_0045.jpg\n",
      "./data/train/161.photocopier/\n",
      "./data/train/161.photocopier/161_0043.jpg\n",
      "./data/train/161.photocopier/161_0015.jpg\n",
      "./data/train/241.waterfall/\n",
      "./data/train/241.waterfall/241_0081.jpg\n",
      "./data/train/241.waterfall/241_0083.jpg\n",
      "./data/train/201.starfish-101/\n",
      "./data/train/201.starfish-101/201_0038.jpg\n",
      "./data/train/201.starfish-101/201_0023.jpg\n",
      "./data/train/135.mailbox/\n",
      "./data/train/135.mailbox/135_0009.jpg\n",
      "./data/train/135.mailbox/135_0023.jpg\n",
      "./data/train/020.brain-101/\n",
      "./data/train/020.brain-101/020_0002.jpg\n",
      "./data/train/020.brain-101/020_0040.jpg\n",
      "./data/train/059.drinking-straw/\n",
      "./data/train/059.drinking-straw/059_0054.jpg\n",
      "./data/train/059.drinking-straw/059_0011.jpg\n",
      "./data/train/036.chandelier-101/\n",
      "./data/train/036.chandelier-101/036_0030.jpg\n",
      "./data/train/036.chandelier-101/036_0062.jpg\n",
      "./data/train/254.greyhound/\n",
      "./data/train/254.greyhound/254_0054.jpg\n",
      "./data/train/254.greyhound/254_0094.jpg\n",
      "./data/train/027.calculator/\n",
      "./data/train/027.calculator/027_0022.jpg\n",
      "./data/train/027.calculator/027_0014.jpg\n",
      "./data/train/143.minaret/\n",
      "./data/train/143.minaret/143_0014.jpg\n",
      "./data/train/143.minaret/143_0018.jpg\n",
      "./data/train/133.lightning/\n",
      "./data/train/133.lightning/133_0087.jpg\n",
      "./data/train/133.lightning/133_0010.jpg\n",
      "./data/train/121.kangaroo-101/\n",
      "./data/train/121.kangaroo-101/121_0082.jpg\n",
      "./data/train/121.kangaroo-101/121_0070.jpg\n",
      "./data/train/227.treadmill/\n",
      "./data/train/227.treadmill/227_0110.jpg\n",
      "./data/train/227.treadmill/227_0134.jpg\n",
      "./data/train/104.homer-simpson/\n",
      "./data/train/104.homer-simpson/104_0075.jpg\n",
      "./data/train/104.homer-simpson/104_0045.jpg\n",
      "./data/train/148.mussels/\n",
      "./data/train/148.mussels/148_0159.jpg\n",
      "./data/train/148.mussels/148_0044.jpg\n",
      "./data/train/224.touring-bike/\n",
      "./data/train/224.touring-bike/224_0061.jpg\n",
      "./data/train/224.touring-bike/224_0059.jpg\n",
      "./data/train/217.tennis-court/\n",
      "./data/train/217.tennis-court/217_0101.jpg\n",
      "./data/train/217.tennis-court/217_0077.jpg\n",
      "./data/train/010.beer-mug/\n",
      "./data/train/010.beer-mug/010_0089.jpg\n",
      "./data/train/010.beer-mug/010_0087.jpg\n",
      "./data/train/155.paperclip/\n",
      "./data/train/155.paperclip/155_0077.jpg\n",
      "./data/train/155.paperclip/155_0015.jpg\n",
      "./data/train/189.snail/\n",
      "./data/train/189.snail/189_0023.jpg\n"
     ]
    },
    {
     "name": "stdout",
     "output_type": "stream",
     "text": [
      "./data/train/189.snail/189_0001.jpg\n",
      "./data/train/058.doorknob/\n",
      "./data/train/058.doorknob/058_0009.jpg\n",
      "./data/train/058.doorknob/058_0004.jpg\n",
      "./data/train/055.dice/\n",
      "./data/train/055.dice/055_0078.jpg\n",
      "./data/train/055.dice/055_0051.jpg\n",
      "./data/train/234.tweezer/\n",
      "./data/train/234.tweezer/234_0096.jpg\n",
      "./data/train/234.tweezer/234_0009.jpg\n",
      "./data/train/033.cd/\n",
      "./data/train/033.cd/033_0044.jpg\n",
      "./data/train/033.cd/033_0081.jpg\n",
      "./data/train/214.teepee/\n",
      "./data/train/214.teepee/214_0075.jpg\n",
      "./data/train/214.teepee/214_0079.jpg\n",
      "./data/train/087.goldfish/\n",
      "./data/train/087.goldfish/087_0020.jpg\n",
      "./data/train/087.goldfish/087_0054.jpg\n",
      "./data/train/239.washing-machine/\n",
      "./data/train/239.washing-machine/239_0058.jpg\n",
      "./data/train/239.washing-machine/239_0052.jpg\n",
      "./data/train/229.tricycle/\n",
      "./data/train/229.tricycle/229_0083.jpg\n",
      "./data/train/229.tricycle/229_0094.jpg\n",
      "./data/train/041.coffee-mug/\n",
      "./data/train/041.coffee-mug/041_0082.jpg\n",
      "./data/train/041.coffee-mug/041_0041.jpg\n",
      "./data/train/079.frisbee/\n",
      "./data/train/079.frisbee/079_0002.jpg\n",
      "./data/train/079.frisbee/079_0034.jpg\n",
      "./data/train/066.ewer-101/\n",
      "./data/train/066.ewer-101/066_0017.jpg\n",
      "./data/train/066.ewer-101/066_0047.jpg\n",
      "./data/train/163.playing-card/\n",
      "./data/train/163.playing-card/163_0082.jpg\n",
      "./data/train/163.playing-card/163_0084.jpg\n",
      "./data/train/007.bat/\n",
      "./data/train/007.bat/007_0085.jpg\n",
      "./data/train/007.bat/007_0097.jpg\n",
      "./data/train/009.bear/\n",
      "./data/train/009.bear/009_0063.jpg\n",
      "./data/train/009.bear/009_0037.jpg\n",
      "./data/train/159.people/\n",
      "./data/train/159.people/159_0079.jpg\n",
      "./data/train/159.people/159_0202.jpg\n",
      "./data/train/158.penguin/\n",
      "./data/train/158.penguin/158_0113.jpg\n",
      "./data/train/158.penguin/158_0061.jpg\n",
      "./data/train/018.bowling-pin/\n",
      "./data/train/018.bowling-pin/018_0067.jpg\n",
      "./data/train/018.bowling-pin/018_0065.jpg\n",
      "./data/train/008.bathtub/\n",
      "./data/train/008.bathtub/008_0147.jpg\n",
      "./data/train/008.bathtub/008_0121.jpg\n",
      "./data/train/248.yarmulke/\n",
      "./data/train/248.yarmulke/248_0073.jpg\n",
      "./data/train/248.yarmulke/248_0031.jpg\n",
      "./data/train/051.cowboy-hat/\n",
      "./data/train/051.cowboy-hat/051_0049.jpg\n",
      "./data/train/051.cowboy-hat/051_0067.jpg\n",
      "./data/train/220.toaster/\n",
      "./data/train/220.toaster/220_0002.jpg\n",
      "./data/train/220.toaster/220_0058.jpg\n",
      "./data/train/145.motorbikes-101/\n",
      "./data/train/145.motorbikes-101/145_0430.jpg\n",
      "./data/train/145.motorbikes-101/145_0732.jpg\n",
      "./data/train/221.tomato/\n",
      "./data/train/221.tomato/221_0035.jpg\n",
      "./data/train/221.tomato/221_0086.jpg\n",
      "./data/train/213.teddy-bear/\n",
      "./data/train/213.teddy-bear/213_0069.jpg\n",
      "./data/train/213.teddy-bear/213_0047.jpg\n",
      "./data/train/142.microwave/\n",
      "./data/train/142.microwave/142_0063.jpg\n",
      "./data/train/142.microwave/142_0029.jpg\n",
      "./data/train/197.speed-boat/\n",
      "./data/train/197.speed-boat/197_0026.jpg\n",
      "./data/train/197.speed-boat/197_0058.jpg\n",
      "./data/train/166.praying-mantis/\n",
      "./data/train/166.praying-mantis/166_0042.jpg\n",
      "./data/train/166.praying-mantis/166_0069.jpg\n",
      "./data/train/215.telephone-box/\n",
      "./data/train/215.telephone-box/215_0043.jpg\n",
      "./data/train/215.telephone-box/215_0038.jpg\n",
      "./data/train/112.human-skeleton/\n",
      "./data/train/112.human-skeleton/112_0026.jpg\n",
      "./data/train/112.human-skeleton/112_0081.jpg\n",
      "./data/train/247.xylophone/\n",
      "./data/train/247.xylophone/247_0073.jpg\n",
      "./data/train/247.xylophone/247_0054.jpg\n",
      "./data/train/168.raccoon/\n",
      "./data/train/168.raccoon/168_0038.jpg\n",
      "./data/train/168.raccoon/168_0111.jpg\n",
      "./data/train/047.computer-mouse/\n",
      "./data/train/047.computer-mouse/047_0070.jpg\n",
      "./data/train/047.computer-mouse/047_0024.jpg\n",
      "./data/train/024.butterfly/\n",
      "./data/train/024.butterfly/024_0007.jpg\n",
      "./data/train/024.butterfly/024_0004.jpg\n",
      "./data/train/116.iguana/\n",
      "./data/train/116.iguana/116_0015.jpg\n",
      "./data/train/116.iguana/116_0014.jpg\n",
      "./data/train/179.scorpion-101/\n",
      "./data/train/179.scorpion-101/179_0034.jpg\n",
      "./data/train/179.scorpion-101/179_0021.jpg\n",
      "./data/train/061.dumb-bell/\n",
      "./data/train/061.dumb-bell/061_0096.jpg\n",
      "./data/train/061.dumb-bell/061_0025.jpg\n",
      "./data/train/134.llama-101/\n",
      "./data/train/134.llama-101/134_0077.jpg\n",
      "./data/train/134.llama-101/134_0037.jpg\n",
      "./data/train/245.windmill/\n",
      "./data/train/245.windmill/245_0021.jpg\n",
      "./data/train/245.windmill/245_0006.jpg\n",
      "./data/train/044.comet/\n",
      "./data/train/044.comet/044_0007.jpg\n",
      "./data/train/044.comet/044_0088.jpg\n",
      "./data/train/094.guitar-pick/\n",
      "./data/train/094.guitar-pick/094_0011.jpg\n",
      "./data/train/094.guitar-pick/094_0077.jpg\n",
      "./data/train/002.american-flag/\n",
      "./data/train/002.american-flag/002_0038.jpg\n",
      "./data/train/002.american-flag/002_0037.jpg\n",
      "./data/train/101.head-phones/\n",
      "./data/train/101.head-phones/101_0044.jpg\n",
      "./data/train/101.head-phones/101_0085.jpg\n",
      "./data/train/153.palm-pilot/\n",
      "./data/train/153.palm-pilot/153_0051.jpg\n",
      "./data/train/153.palm-pilot/153_0042.jpg\n",
      "./data/train/199.spoon/\n",
      "./data/train/199.spoon/199_0024.jpg\n",
      "./data/train/199.spoon/199_0098.jpg\n",
      "./data/train/056.dog/\n",
      "./data/train/056.dog/056_0051.jpg\n",
      "./data/train/056.dog/056_0028.jpg\n",
      "./data/train/183.sextant/\n",
      "./data/train/183.sextant/183_0054.jpg\n",
      "./data/train/183.sextant/183_0041.jpg\n",
      "./data/train/029.cannon/\n",
      "./data/train/029.cannon/029_0068.jpg\n",
      "./data/train/029.cannon/029_0020.jpg\n",
      "./data/train/108.hot-dog/\n",
      "./data/train/108.hot-dog/108_0034.jpg\n",
      "./data/train/108.hot-dog/108_0073.jpg\n",
      "./data/train/180.screwdriver/\n",
      "./data/train/180.screwdriver/180_0093.jpg\n",
      "./data/train/180.screwdriver/180_0017.jpg\n",
      "./data/train/126.ladder/\n",
      "./data/train/126.ladder/126_0057.jpg\n",
      "./data/train/126.ladder/126_0088.jpg\n",
      "./data/train/169.radio-telescope/\n",
      "./data/train/169.radio-telescope/169_0052.jpg\n",
      "./data/train/169.radio-telescope/169_0072.jpg\n",
      "./data/train/160.pez-dispenser/\n",
      "./data/train/160.pez-dispenser/160_0054.jpg\n",
      "./data/train/160.pez-dispenser/160_0073.jpg\n",
      "./data/train/063.electric-guitar-101/\n",
      "./data/train/063.electric-guitar-101/063_0022.jpg\n",
      "./data/train/063.electric-guitar-101/063_0041.jpg\n",
      "./data/train/012.binoculars/\n",
      "./data/train/012.binoculars/012_0058.jpg\n",
      "./data/train/012.binoculars/012_0071.jpg\n",
      "./data/train/086.golden-gate-bridge/\n",
      "./data/train/086.golden-gate-bridge/086_0025.jpg\n",
      "./data/train/086.golden-gate-bridge/086_0012.jpg\n",
      "./data/train/092.grapes/\n",
      "./data/train/092.grapes/092_0081.jpg\n",
      "./data/train/092.grapes/092_0179.jpg\n",
      "./data/train/050.covered-wagon/\n",
      "./data/train/050.covered-wagon/050_0004.jpg\n",
      "./data/train/050.covered-wagon/050_0061.jpg\n",
      "./data/train/109.hot-tub/\n",
      "./data/train/109.hot-tub/109_0111.jpg\n",
      "./data/train/109.hot-tub/109_0001.jpg\n",
      "./data/train/028.camel/\n",
      "./data/train/028.camel/028_0099.jpg\n",
      "./data/train/028.camel/028_0087.jpg\n",
      "./data/train/246.wine-bottle/\n",
      "./data/train/246.wine-bottle/246_0011.jpg\n",
      "./data/train/246.wine-bottle/246_0068.jpg\n",
      "./data/train/052.crab-101/\n",
      "./data/train/052.crab-101/052_0002.jpg\n",
      "./data/train/052.crab-101/052_0008.jpg\n",
      "./data/train/185.skateboard/\n",
      "./data/train/185.skateboard/185_0046.jpg\n",
      "./data/train/185.skateboard/185_0025.jpg\n",
      "./data/train/031.car-tire/\n",
      "./data/train/031.car-tire/031_0036.jpg\n",
      "./data/train/031.car-tire/031_0062.jpg\n",
      "./data/train/187.skyscraper/\n",
      "./data/train/187.skyscraper/187_0082.jpg\n",
      "./data/train/187.skyscraper/187_0063.jpg\n",
      "./data/train/231.tripod/\n",
      "./data/train/231.tripod/231_0001.jpg\n",
      "./data/train/231.tripod/231_0044.jpg\n",
      "./data/train/069.fighter-jet/\n",
      "./data/train/069.fighter-jet/069_0023.jpg\n",
      "./data/train/069.fighter-jet/069_0079.jpg\n",
      "./data/train/054.diamond-ring/\n",
      "./data/train/054.diamond-ring/054_0105.jpg\n",
      "./data/train/054.diamond-ring/054_0016.jpg\n",
      "./data/train/117.ipod/\n",
      "./data/train/117.ipod/117_0039.jpg\n",
      "./data/train/117.ipod/117_0023.jpg\n",
      "./data/train/023.bulldozer/\n",
      "./data/train/023.bulldozer/023_0048.jpg\n",
      "./data/train/023.bulldozer/023_0098.jpg\n",
      "./data/train/196.spaghetti/\n",
      "./data/train/196.spaghetti/196_0002.jpg\n",
      "./data/train/196.spaghetti/196_0091.jpg\n",
      "./data/train/186.skunk/\n",
      "./data/train/186.skunk/186_0048.jpg\n",
      "./data/train/186.skunk/186_0070.jpg\n",
      "./data/train/192.snowmobile/\n",
      "./data/train/192.snowmobile/192_0047.jpg\n",
      "./data/train/192.snowmobile/192_0090.jpg\n",
      "./data/train/125.knife/\n",
      "./data/train/125.knife/125_0087.jpg\n",
      "./data/train/125.knife/125_0093.jpg\n",
      "./data/train/228.triceratops/\n",
      "./data/train/228.triceratops/228_0043.jpg\n",
      "./data/train/228.triceratops/228_0089.jpg\n",
      "./data/train/118.iris/\n",
      "./data/train/118.iris/118_0060.jpg\n",
      "./data/train/118.iris/118_0057.jpg\n",
      "./data/train/191.sneaker/\n",
      "./data/train/191.sneaker/191_0035.jpg\n",
      "./data/train/191.sneaker/191_0016.jpg\n",
      "./data/train/149.necktie/\n",
      "./data/train/149.necktie/149_0095.jpg\n",
      "./data/train/149.necktie/149_0044.jpg\n",
      "./data/train/016.boom-box/\n",
      "./data/train/016.boom-box/016_0086.jpg\n",
      "./data/train/016.boom-box/016_0087.jpg\n",
      "./data/train/244.wheelbarrow/\n",
      "./data/train/244.wheelbarrow/244_0065.jpg\n",
      "./data/train/244.wheelbarrow/244_0049.jpg\n",
      "./data/train/076.football-helmet/\n",
      "./data/train/076.football-helmet/076_0083.jpg\n",
      "./data/train/076.football-helmet/076_0027.jpg\n",
      "./data/train/255.tennis-shoes/\n",
      "./data/train/255.tennis-shoes/255_0092.jpg\n",
      "./data/train/255.tennis-shoes/255_0051.jpg\n",
      "./data/train/232.t-shirt/\n",
      "./data/train/232.t-shirt/232_0283.jpg\n",
      "./data/train/232.t-shirt/232_0299.jpg\n",
      "./data/train/204.sunflower-101/\n",
      "./data/train/204.sunflower-101/204_0031.jpg\n",
      "./data/train/204.sunflower-101/204_0056.jpg\n",
      "./data/train/181.segway/\n",
      "./data/train/181.segway/181_0058.jpg\n",
      "./data/train/181.segway/181_0055.jpg\n",
      "./data/train/162.picnic-table/\n",
      "./data/train/162.picnic-table/162_0014.jpg\n"
     ]
    },
    {
     "name": "stdout",
     "output_type": "stream",
     "text": [
      "./data/train/162.picnic-table/162_0047.jpg\r\n",
      "./data/train/038.chimp/\r\n",
      "./data/train/038.chimp/038_0092.jpg\r\n",
      "./data/train/038.chimp/038_0069.jpg\r\n",
      "./data/train/103.hibiscus/\r\n",
      "./data/train/103.hibiscus/103_0070.jpg\r\n",
      "./data/train/103.hibiscus/103_0076.jpg\r\n",
      "./data/train/173.rifle/\r\n",
      "./data/train/173.rifle/173_0010.jpg\r\n",
      "./data/train/173.rifle/173_0080.jpg\r\n",
      "./data/train/105.horse/\r\n",
      "./data/train/105.horse/105_0227.jpg\r\n",
      "./data/train/105.horse/105_0049.jpg\r\n",
      "./data/train/230.trilobite-101/\r\n",
      "./data/train/230.trilobite-101/230_0053.jpg\r\n",
      "./data/train/230.trilobite-101/230_0074.jpg\r\n",
      "./data/train/090.gorilla/\r\n",
      "./data/train/090.gorilla/090_0143.jpg\r\n",
      "./data/train/090.gorilla/090_0193.jpg\r\n",
      "./data/train/157.pci-card/\r\n",
      "./data/train/157.pci-card/157_0004.jpg\r\n",
      "./data/train/157.pci-card/157_0012.jpg\r\n",
      "./data/train/237.vcr/\r\n",
      "./data/train/237.vcr/237_0024.jpg\r\n",
      "./data/train/237.vcr/237_0027.jpg\r\n"
     ]
    }
   ],
   "source": [
    "!tar czvf data/caltech_256/model.tar.gz --exclude='tmp.h5' -C data/caltech_256/models/ ."
   ]
  },
  {
   "cell_type": "code",
   "execution_count": 71,
   "metadata": {},
   "outputs": [],
   "source": [
    "import boto3"
   ]
  },
  {
   "cell_type": "code",
   "execution_count": 69,
   "metadata": {},
   "outputs": [],
   "source": [
    "bucket='sagemaker-mcclean-eu-west-1'          # customize to the name of your S3 bucket\n",
    "key='models/caltech256_fastai/model.tar.gz'   # prefix of the S3 bucket of the model file"
   ]
  },
  {
   "cell_type": "code",
   "execution_count": null,
   "metadata": {},
   "outputs": [],
   "source": [
    "boto3.client('s3').upload_file(PATH+\"model.tar.gz\", bucket, key)\n",
    "print(f\"Uploaded model artefacts to s3://{bucket}/{key}\")"
   ]
  },
  {
   "cell_type": "code",
   "execution_count": null,
   "metadata": {},
   "outputs": [],
   "source": []
  }
 ],
 "metadata": {
  "kernelspec": {
   "display_name": "conda_fastai",
   "language": "python",
   "name": "conda_fastai"
  },
  "language_info": {
   "codemirror_mode": {
    "name": "ipython",
    "version": 3
   },
   "file_extension": ".py",
   "mimetype": "text/x-python",
   "name": "python",
   "nbconvert_exporter": "python",
   "pygments_lexer": "ipython3",
   "version": "3.6.5"
  }
 },
 "nbformat": 4,
 "nbformat_minor": 2
}
